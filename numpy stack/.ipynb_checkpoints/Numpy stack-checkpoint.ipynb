{
 "cells": [
  {
   "cell_type": "markdown",
   "metadata": {},
   "source": [
    "Numpy: vectors, matrices"
   ]
  },
  {
   "cell_type": "markdown",
   "metadata": {},
   "source": [
    "Scipy: PDF,CDF,sampling, statistical testing, signal processing: convolution , fourier transform"
   ]
  },
  {
   "cell_type": "code",
   "execution_count": 3,
   "metadata": {},
   "outputs": [
    {
     "name": "stdout",
     "output_type": "stream",
     "text": [
      "4\n",
      "[2 2]\n",
      "4\n",
      "4\n"
     ]
    }
   ],
   "source": [
    "import numpy as np\n",
    "a = np.array([1,2])\n",
    "b = np.array([2,1])\n",
    "dot = 0\n",
    "for e,f in zip(a,b):\n",
    "    dot += e*f\n",
    "print(dot)\n",
    "print(a*b)\n",
    "print(np.sum(a*b))\n",
    "print((a*b).sum())\n",
    "      "
   ]
  },
  {
   "cell_type": "code",
   "execution_count": 4,
   "metadata": {},
   "outputs": [
    {
     "data": {
      "text/plain": [
       "4"
      ]
     },
     "execution_count": 4,
     "metadata": {},
     "output_type": "execute_result"
    }
   ],
   "source": [
    "np.dot(a,b)"
   ]
  },
  {
   "cell_type": "code",
   "execution_count": 5,
   "metadata": {},
   "outputs": [
    {
     "data": {
      "text/plain": [
       "4"
      ]
     },
     "execution_count": 5,
     "metadata": {},
     "output_type": "execute_result"
    }
   ],
   "source": [
    "a.dot(b)\n"
   ]
  },
  {
   "cell_type": "code",
   "execution_count": 8,
   "metadata": {},
   "outputs": [
    {
     "name": "stdout",
     "output_type": "stream",
     "text": [
      "2.23606797749979\n"
     ]
    }
   ],
   "source": [
    "amag = np.sqrt((a*a).sum())\n",
    "print(amag)\n"
   ]
  },
  {
   "cell_type": "code",
   "execution_count": 9,
   "metadata": {},
   "outputs": [
    {
     "data": {
      "text/plain": [
       "2.23606797749979"
      ]
     },
     "execution_count": 9,
     "metadata": {},
     "output_type": "execute_result"
    }
   ],
   "source": [
    "np.linalg.norm(a)"
   ]
  },
  {
   "cell_type": "code",
   "execution_count": 13,
   "metadata": {},
   "outputs": [
    {
     "name": "stdout",
     "output_type": "stream",
     "text": [
      "0.6435011087932847\n"
     ]
    }
   ],
   "source": [
    "cosangle = a.dot(b)/(np.linalg.norm(a)*np.linalg.norm(b))\n",
    "print(np.arccos(cosangle))"
   ]
  },
  {
   "cell_type": "code",
   "execution_count": 16,
   "metadata": {},
   "outputs": [
    {
     "name": "stdout",
     "output_type": "stream",
     "text": [
      "23.72408362645342\n"
     ]
    }
   ],
   "source": [
    "\n",
    "from datetime import datetime\n",
    "a = np.random.randn(100)\n",
    "b= np.random.randn(100)\n",
    "T = 100000\n",
    "\n",
    "def slow_dot_product(a,b):\n",
    "    dot_prod = 0\n",
    "    for e,f in zip(a,b):\n",
    "        dot_prod += e*f\n",
    "    return dot_prod\n",
    "\n",
    "start=datetime.now()\n",
    "for t in range(T):\n",
    "    slow_dot_product(a,b)\n",
    "\n",
    "slow_time = datetime.now() - start\n",
    "\n",
    "start = datetime.now()\n",
    "for t in range(T):\n",
    "    a.dot(b)\n",
    "\n",
    "fast_time = datetime.now() - start\n",
    "\n",
    "print(slow_time/fast_time)\n"
   ]
  },
  {
   "cell_type": "code",
   "execution_count": 18,
   "metadata": {},
   "outputs": [
    {
     "name": "stdout",
     "output_type": "stream",
     "text": [
      "1 1\n",
      "1\n"
     ]
    }
   ],
   "source": [
    "M = np.array([[1,2],[3,4]])\n",
    "L = [[1,2],[3,4]]\n",
    "print(M[0][0],M[0,0])\n",
    "print(L[0][0])"
   ]
  },
  {
   "cell_type": "code",
   "execution_count": 21,
   "metadata": {},
   "outputs": [
    {
     "name": "stdout",
     "output_type": "stream",
     "text": [
      "[[0.94140313 0.79487542 0.53431189 0.77771863 0.69143624 0.01931719\n",
      "  0.11780191 0.93182394 0.09723494 0.46404323]\n",
      " [0.21080094 0.83318427 0.65245735 0.05488573 0.51564492 0.89251884\n",
      "  0.6853601  0.30801898 0.17117991 0.07116616]\n",
      " [0.35910239 0.02690801 0.87919701 0.91669027 0.58150649 0.46442041\n",
      "  0.96565637 0.31300597 0.75088503 0.46446126]\n",
      " [0.8790757  0.77042499 0.94865172 0.49566133 0.26686041 0.92851227\n",
      "  0.51275858 0.29967787 0.12718094 0.63437716]\n",
      " [0.42972641 0.15794478 0.8142282  0.16299728 0.49266518 0.65312835\n",
      "  0.83965174 0.26370915 0.63753699 0.35126132]\n",
      " [0.46014508 0.98661393 0.11395937 0.07699581 0.64754131 0.21440171\n",
      "  0.40621843 0.17281749 0.69148973 0.00701017]\n",
      " [0.23805695 0.50517168 0.84543039 0.75637857 0.19878081 0.5481786\n",
      "  0.72638474 0.80643791 0.93840142 0.42442649]\n",
      " [0.96539189 0.4677722  0.74773868 0.29061507 0.54438526 0.99077716\n",
      "  0.14145079 0.2086815  0.56727765 0.01097158]\n",
      " [0.63463033 0.38525807 0.54238933 0.11551666 0.80515766 0.03505357\n",
      "  0.98880496 0.83474745 0.54923961 0.82098992]\n",
      " [0.699827   0.37781278 0.60758384 0.60482648 0.63059372 0.19194947\n",
      "  0.0338037  0.437727   0.88228051 0.42468175]]\n",
      "[[1. 1. 1. 1. 1. 1. 1. 1. 1. 1.]\n",
      " [1. 1. 1. 1. 1. 1. 1. 1. 1. 1.]\n",
      " [1. 1. 1. 1. 1. 1. 1. 1. 1. 1.]\n",
      " [1. 1. 1. 1. 1. 1. 1. 1. 1. 1.]\n",
      " [1. 1. 1. 1. 1. 1. 1. 1. 1. 1.]\n",
      " [1. 1. 1. 1. 1. 1. 1. 1. 1. 1.]\n",
      " [1. 1. 1. 1. 1. 1. 1. 1. 1. 1.]\n",
      " [1. 1. 1. 1. 1. 1. 1. 1. 1. 1.]\n",
      " [1. 1. 1. 1. 1. 1. 1. 1. 1. 1.]\n",
      " [1. 1. 1. 1. 1. 1. 1. 1. 1. 1.]]\n",
      "[[-1.92129895 -0.27462826  0.27536878 -2.09546533  1.02355293  1.64337505\n",
      "   1.26526103  1.26311998  1.24054203  0.85006782]\n",
      " [-0.16861338  0.1382664   1.8783468   0.32274994 -1.97697243 -0.91618793\n",
      "  -1.24924005  0.85555883 -1.65028479 -1.16526203]\n",
      " [-0.59917047 -1.94222528  1.13206594 -0.07143327  0.95793099  0.97933307\n",
      "   0.40812218 -0.34016951 -0.61414516  1.46950362]\n",
      " [-0.18390949 -0.4065178   0.30025907 -0.95330006  0.11491082 -0.06364616\n",
      "   0.24969563  0.27734489  1.40290876  0.63990638]\n",
      " [ 0.02360432  1.20385002  1.66841971  0.18252586  0.2036058  -1.21762007\n",
      "   0.97332204  0.42671405  1.58961509  0.21985309]\n",
      " [-0.01957621 -0.83549502  0.50449965 -0.80529327 -0.70126219  0.6596644\n",
      "  -0.01235285  0.15798241  0.38599721  1.93517363]\n",
      " [-0.60097884  0.98194251  1.38593508  0.22759608 -1.10089487  0.11461168\n",
      "   0.88760045 -0.36768417  0.94066867  0.06322074]\n",
      " [ 0.75008348  0.11978691  1.59222949  1.95655781  0.72139162 -1.59341599\n",
      "  -1.51383901 -0.58765536 -0.55567683  0.69602917]\n",
      " [ 1.07645282  0.68129657  0.11047504  1.36671385  0.8429935  -1.33411925\n",
      "   0.16703811  1.66727386  0.71785345 -1.03861497]\n",
      " [-0.37679105  0.90310842 -0.99510035 -0.55784348 -0.57203317  1.54961466\n",
      "   0.19847281 -1.32342641  0.32160638 -0.78899093]]\n"
     ]
    }
   ],
   "source": [
    "#Normal distribution\n",
    "N = np.random.random((10,10))\n",
    "print(N) \n",
    "N = np.ones((10,10))\n",
    "print(N)\n",
    "# Gaussian distribution\n",
    "G = np.random.randn(10,10)\n",
    "print(G)"
   ]
  },
  {
   "cell_type": "code",
   "execution_count": 23,
   "metadata": {},
   "outputs": [
    {
     "name": "stdout",
     "output_type": "stream",
     "text": [
      "0.15372436723943642\n",
      "0.9733140377796391\n"
     ]
    }
   ],
   "source": [
    "print(G.mean())\n",
    "print(G.var())"
   ]
  },
  {
   "cell_type": "markdown",
   "metadata": {},
   "source": [
    "`Matrix products`: `*` is element by element multiplication, `.` is matrix multiplication.\n"
   ]
  },
  {
   "cell_type": "code",
   "execution_count": 28,
   "metadata": {},
   "outputs": [
    {
     "name": "stdout",
     "output_type": "stream",
     "text": [
      "[[-2.   1. ]\n",
      " [ 1.5 -0.5]]\n",
      "[[1.0000000e+00 4.4408921e-16]\n",
      " [0.0000000e+00 1.0000000e+00]]\n"
     ]
    }
   ],
   "source": [
    "A = np.array([[1,2],[3,4]])\n",
    "Ainv = np.linalg.inv(A)\n",
    "print(Ainv)\n",
    "print(Ainv.dot(A)) #Identity matrix"
   ]
  },
  {
   "cell_type": "code",
   "execution_count": 30,
   "metadata": {},
   "outputs": [
    {
     "data": {
      "text/plain": [
       "-2.0000000000000004"
      ]
     },
     "execution_count": 30,
     "metadata": {},
     "output_type": "execute_result"
    }
   ],
   "source": [
    "np.linalg.det(A)"
   ]
  },
  {
   "cell_type": "code",
   "execution_count": 31,
   "metadata": {},
   "outputs": [
    {
     "data": {
      "text/plain": [
       "array([1, 4])"
      ]
     },
     "execution_count": 31,
     "metadata": {},
     "output_type": "execute_result"
    }
   ],
   "source": [
    "np.diag(A)"
   ]
  },
  {
   "cell_type": "code",
   "execution_count": 32,
   "metadata": {},
   "outputs": [
    {
     "data": {
      "text/plain": [
       "array([[1, 0],\n",
       "       [0, 2]])"
      ]
     },
     "execution_count": 32,
     "metadata": {},
     "output_type": "execute_result"
    }
   ],
   "source": [
    "np.diag([1,2])"
   ]
  },
  {
   "cell_type": "markdown",
   "metadata": {},
   "source": [
    "#### Outer products----> covariance of some sample vectors\n"
   ]
  },
  {
   "cell_type": "code",
   "execution_count": 33,
   "metadata": {},
   "outputs": [
    {
     "data": {
      "text/plain": [
       "array([[3, 4],\n",
       "       [6, 8]])"
      ]
     },
     "execution_count": 33,
     "metadata": {},
     "output_type": "execute_result"
    }
   ],
   "source": [
    "a = np.array([1,2])\n",
    "b = np.array([3,4])\n",
    "np.outer(a,b)"
   ]
  },
  {
   "cell_type": "code",
   "execution_count": 34,
   "metadata": {},
   "outputs": [
    {
     "data": {
      "text/plain": [
       "11"
      ]
     },
     "execution_count": 34,
     "metadata": {},
     "output_type": "execute_result"
    }
   ],
   "source": [
    "np.inner(a,b)"
   ]
  },
  {
   "cell_type": "code",
   "execution_count": 35,
   "metadata": {},
   "outputs": [
    {
     "data": {
      "text/plain": [
       "11"
      ]
     },
     "execution_count": 35,
     "metadata": {},
     "output_type": "execute_result"
    }
   ],
   "source": [
    "a.dot(b)"
   ]
  },
  {
   "cell_type": "code",
   "execution_count": 36,
   "metadata": {},
   "outputs": [
    {
     "data": {
      "text/plain": [
       "5"
      ]
     },
     "execution_count": 36,
     "metadata": {},
     "output_type": "execute_result"
    }
   ],
   "source": [
    "np.diag(A).sum()"
   ]
  },
  {
   "cell_type": "code",
   "execution_count": 38,
   "metadata": {},
   "outputs": [
    {
     "data": {
      "text/plain": [
       "5"
      ]
     },
     "execution_count": 38,
     "metadata": {},
     "output_type": "execute_result"
    }
   ],
   "source": [
    "np.trace(A) # trace of a matrix"
   ]
  },
  {
   "cell_type": "markdown",
   "metadata": {},
   "source": [
    "#### We need to find Eigen Values and Eigen vectors of symmetric matrix like covariance variance matrix of dataset\n",
    "say random data `X` and each row is a `sample` and each column is a `feature`."
   ]
  },
  {
   "cell_type": "code",
   "execution_count": 39,
   "metadata": {},
   "outputs": [
    {
     "name": "stdout",
     "output_type": "stream",
     "text": [
      "(100, 100)\n"
     ]
    }
   ],
   "source": [
    "X = np.random.randn(100,3)\n",
    "cov = np.cov(X)\n",
    "print(cov.shape)"
   ]
  },
  {
   "cell_type": "markdown",
   "metadata": {},
   "source": [
    "`Above shape is not correct as it is 100*100 and we need our covariance to be 3*3 as it has 3 dimentions`\n",
    "So we do the following:"
   ]
  },
  {
   "cell_type": "code",
   "execution_count": 40,
   "metadata": {},
   "outputs": [
    {
     "name": "stdout",
     "output_type": "stream",
     "text": [
      "[[ 1.02543341 -0.00235027  0.03682448]\n",
      " [-0.00235027  0.91127596 -0.01054652]\n",
      " [ 0.03682448 -0.01054652  0.95413921]]\n"
     ]
    }
   ],
   "source": [
    "cov = np.cov(X.T) # we calculate covariance using the transpose of X\n",
    "print(cov)"
   ]
  },
  {
   "cell_type": "markdown",
   "metadata": {},
   "source": [
    "#### To calculate the Eigen Values and Eigen vectors:\n",
    "`np.eig()` and `np.eigh()`---> only used for symmetric(is equal to transpose of itself) and hermitian matrices(is equal to conjugate transpose of itself).\n",
    "#### The Covariance matrix is symmetric matrix so we can use np.eigh() on it\n"
   ]
  },
  {
   "cell_type": "code",
   "execution_count": 41,
   "metadata": {},
   "outputs": [
    {
     "data": {
      "text/plain": [
       "(array([0.90841162, 0.94109385, 1.0413431 ]),\n",
       " array([[-0.06742416,  0.39073429, -0.91803088],\n",
       "        [ 0.95894354,  0.27941943,  0.04849813],\n",
       "        [ 0.27546555, -0.87706984, -0.39353174]]))"
      ]
     },
     "execution_count": 41,
     "metadata": {},
     "output_type": "execute_result"
    }
   ],
   "source": [
    "np.linalg.eigh(cov)"
   ]
  },
  {
   "cell_type": "markdown",
   "metadata": {},
   "source": [
    "#### Returns tuples: first tuple has (here 3) eigen values and second tuple (here 3by3) eigen vectors.\n"
   ]
  },
  {
   "cell_type": "markdown",
   "metadata": {},
   "source": [
    "### Solving linear system:\n",
    "<b>Fig </b>\n",
    "\n",
    "\n"
   ]
  },
  {
   "cell_type": "code",
   "execution_count": 42,
   "metadata": {},
   "outputs": [
    {
     "data": {
      "text/plain": [
       "array([[1, 2],\n",
       "       [3, 4]])"
      ]
     },
     "execution_count": 42,
     "metadata": {},
     "output_type": "execute_result"
    }
   ],
   "source": [
    "A"
   ]
  },
  {
   "cell_type": "code",
   "execution_count": 55,
   "metadata": {},
   "outputs": [
    {
     "name": "stdout",
     "output_type": "stream",
     "text": [
      "[2.22044605e-16 5.00000000e-01]\n"
     ]
    }
   ],
   "source": [
    "A = np.array([[1,2],[3,4]])\n",
    "b = np.array([1,2])\n",
    "invA = np.linalg.inv(A)\n",
    "x = invA.dot(b)\n",
    "print(x)\n"
   ]
  },
  {
   "cell_type": "markdown",
   "metadata": {},
   "source": [
    "#### since above operation is very common np has np.linalg.solve(A,b)"
   ]
  },
  {
   "cell_type": "code",
   "execution_count": 48,
   "metadata": {},
   "outputs": [
    {
     "data": {
      "text/plain": [
       "array([0. , 0.5])"
      ]
     },
     "execution_count": 48,
     "metadata": {},
     "output_type": "execute_result"
    }
   ],
   "source": [
    "np.linalg.solve(A,b)"
   ]
  },
  {
   "cell_type": "markdown",
   "metadata": {},
   "source": [
    "#### Always use `np.linalg.solve()`"
   ]
  },
  {
   "cell_type": "markdown",
   "metadata": {},
   "source": [
    "### Manually loading data"
   ]
  },
  {
   "cell_type": "code",
   "execution_count": 57,
   "metadata": {},
   "outputs": [
    {
     "name": "stdout",
     "output_type": "stream",
     "text": [
      "[['17.9302012052' '94.5205919533' '320.259529602\\n']\n",
      " ['97.1446971852' '69.5932819844' '404.634471526\\n']\n",
      " ['81.7759007845' '5.73764809688' '181.485107741\\n']\n",
      " ['55.8543424175' '70.3259016768' '321.773638018\\n']\n",
      " ['49.3665499855' '75.1140401571' '322.465485583\\n']\n",
      " ['3.19270246506' '29.2562988631' '94.6188108954\\n']\n",
      " ['49.2007840582' '86.1444385075' '356.348092747\\n']\n",
      " ['21.882803904' '46.8415051959' '181.653769226\\n']\n",
      " ['79.5098627219' '87.397355535' '423.557743194\\n']\n",
      " ['88.1538874975' '65.2056419279' '369.229245443\\n']\n",
      " ['60.7438543399' '99.9576339008' '427.605803661\\n']\n",
      " ['67.4155819451' '50.3683096094' '292.471821553\\n']\n",
      " ['48.3181157719' '99.1289531425' '395.529811407\\n']\n",
      " ['28.8299719729' '87.1849488537' '319.031348455\\n']\n",
      " ['43.853742664' '64.4736390798' '287.4281441\\n']\n",
      " ['25.3136940868' '83.5452942552' '292.768908839\\n']\n",
      " ['10.807726675' '45.6955685904' '159.663307674\\n']\n",
      " ['98.365745882' '82.6973935253' '438.798963866\\n']\n",
      " ['29.1469099692' '66.3651067611' '250.986309034\\n']\n",
      " ['65.1003018959' '33.3538834975' '231.711507921\\n']\n",
      " ['24.6441134909' '39.5400527406' '163.398160832\\n']\n",
      " ['37.5598048804' '1.34572784158' '83.4801551365\\n']\n",
      " ['88.1645062351' '95.1536625708' '466.265805791\\n']\n",
      " ['13.8346208354' '25.494048204' '100.886430268\\n']\n",
      " ['64.4108437467' '77.2598381277' '365.641048062\\n']\n",
      " ['68.925991798' '97.4536007955' '426.140015493\\n']\n",
      " ['39.4884422375' '50.8561281903' '235.532389457\\n']\n",
      " ['52.4631776831' '59.7765096878' '283.291640318\\n']\n",
      " ['48.4847869797' '66.9703542227' '298.581440375\\n']\n",
      " ['8.06208781377' '98.2426001448' '309.234108782\\n']\n",
      " ['32.7318877149' '18.8535355289' '129.610139015\\n']\n",
      " ['11.6523787962' '66.2645117418' '224.150542091\\n']\n",
      " ['13.7303535349' '70.4725091314' '235.305665631\\n']\n",
      " ['8.18555176536' '41.8519894198' '153.484189455\\n']\n",
      " ['53.6098761481' '94.560121637' '394.939444253\\n']\n",
      " ['95.3686098922' '47.2955069599' '336.126738879\\n']\n",
      " ['87.3336092062' '93.8039343271' '449.363351987\\n']\n",
      " ['66.3576110919' '81.8475512843' '387.014816485\\n']\n",
      " ['19.7547175302' '65.5233009197' '240.389441595\\n']\n",
      " ['21.1334404504' '47.4371819938' '177.14828058\\n']\n",
      " ['22.37386481' '25.9556275364' '119.61125795\\n']\n",
      " ['93.9904040537' '0.127890520058' '196.716166657\\n']\n",
      " ['86.7201980995' '18.413766785' '236.260808358\\n']\n",
      " ['98.9983729904' '60.2312656882' '384.381344695\\n']\n",
      " ['3.59396564372' '96.2522173231' '293.237183045\\n']\n",
      " ['15.1023633732' '92.5569035696' '304.890882807\\n']\n",
      " ['97.8341407695' '2.02390810433' '201.293598424\\n']\n",
      " ['19.9382196923' '46.7782734632' '170.610093035\\n']\n",
      " ['30.3735111369' '58.7775251616' '242.373484227\\n']\n",
      " ['73.2928831485' '67.6696277593' '353.082991304\\n']\n",
      " ['52.2309008804' '81.9024482531' '348.725688557\\n']\n",
      " ['86.4295761137' '66.5402275975' '365.959970954\\n']\n",
      " ['93.4008021441' '18.0752459352' '235.472381633\\n']\n",
      " ['13.213460059' '91.4888587787' '300.606878255\\n']\n",
      " ['4.59346270394' '46.3359315158' '145.818745251\\n']\n",
      " ['15.6692915825' '35.5437439971' '138.880334695\\n']\n",
      " ['52.9593597724' '68.7202096086' '317.163707741\\n']\n",
      " ['56.8175212312' '47.5727319202' '254.903631301\\n']\n",
      " ['51.1335430813' '78.0421674552' '334.5843335\\n']\n",
      " ['7.86216471526' '17.7290817759' '69.3555888141\\n']\n",
      " ['54.6986037014' '92.7445841407' '386.859937239\\n']\n",
      " ['86.3990630133' '41.8886945857' '294.871713576\\n']\n",
      " ['11.9475060186' '42.9613867358' '156.754219545\\n']\n",
      " ['70.3584010648' '83.7062345104' '391.806135291\\n']\n",
      " ['29.0223663255' '84.327783082' '319.310462851\\n']\n",
      " ['42.7594799067' '97.4933260814' '376.291589478\\n']\n",
      " ['96.2156564389' '25.8342825832' '280.617043873\\n']\n",
      " ['53.2277276552' '27.9055085669' '194.430465068\\n']\n",
      " ['30.3609896715' '0.939644215313' '69.6488631767\\n']\n",
      " ['83.2775653897' '73.1793485695' '384.597184993\\n']\n",
      " ['30.1876924786' '7.1465385989' '89.5390083986\\n']\n",
      " ['11.7884184617' '51.6977608445' '181.550682802\\n']\n",
      " ['18.2924240117' '61.9779760484' '224.773382884\\n']\n",
      " ['96.7126676927' '9.0291015125' '219.567093701\\n']\n",
      " ['31.0127386947' '78.2833824603' '298.490216481\\n']\n",
      " ['11.3972607536' '61.728693243' '199.944044715\\n']\n",
      " ['17.3925557906' '4.24114086314' '43.9156923531\\n']\n",
      " ['72.1826937267' '34.5390721676' '256.068378234\\n']\n",
      " ['73.980020785' '3.71649343826' '159.372580639\\n']\n",
      " ['94.4930583509' '88.41719702' '447.132703621\\n']\n",
      " ['84.5628207335' '20.2411621935' '233.078829579\\n']\n",
      " ['51.7424739723' '11.009747964' '131.070179635\\n']\n",
      " ['53.7485903953' '60.0251022958' '298.814332704\\n']\n",
      " ['85.0508347563' '95.7369969538' '451.80352299\\n']\n",
      " ['46.7772504514' '90.2022062395' '368.366435952\\n']\n",
      " ['49.7584341737' '52.834494361' '254.706774007\\n']\n",
      " ['24.1192565017' '42.1028107802' '168.308432759\\n']\n",
      " ['27.2015764537' '29.9787492892' '146.34226\\n']\n",
      " ['7.00959616769' '55.876058392' '176.810148976\\n']\n",
      " ['97.6469496688' '8.14762512696' '219.16028041\\n']\n",
      " ['1.38298250945' '84.9440869198' '252.905652954\\n']\n",
      " ['22.3235303534' '27.5150750402' '127.570478844\\n']\n",
      " ['45.0454062325' '93.5204022248' '375.822340339\\n']\n",
      " ['40.1639914677' '0.161699234822' '80.3890193252\\n']\n",
      " ['53.182739793' '8.17031616228' '142.718183077\\n']\n",
      " ['46.4567791559' '82.000170914' '336.876154384\\n']\n",
      " ['77.1303006946' '95.1887594549' '438.460586127\\n']\n",
      " ['68.600607572' '72.5711807231' '355.900286918\\n']\n",
      " ['41.6938871165' '69.241125973' '284.834636711\\n']\n",
      " ['4.1426693978' '52.2547263792' '168.034400947\\n']]\n"
     ]
    }
   ],
   "source": [
    "X = []\n",
    "for line in open(\"data_2d.csv\"):\n",
    "    row = line.split(',')\n",
    "    sample = map(float,row)\n",
    "    X.append(row)\n",
    "\n",
    "X = np.array(X) \n",
    "print (X)\n"
   ]
  },
  {
   "cell_type": "code",
   "execution_count": 59,
   "metadata": {},
   "outputs": [
    {
     "data": {
      "text/plain": [
       "(100, 3)"
      ]
     },
     "execution_count": 59,
     "metadata": {},
     "output_type": "execute_result"
    }
   ],
   "source": [
    "X.shape"
   ]
  },
  {
   "cell_type": "markdown",
   "metadata": {},
   "source": [
    "## PANDAS"
   ]
  },
  {
   "cell_type": "code",
   "execution_count": 65,
   "metadata": {},
   "outputs": [
    {
     "name": "stdout",
     "output_type": "stream",
     "text": [
      "           0          1           2\n",
      "0  17.930201  94.520592  320.259530\n",
      "1  97.144697  69.593282  404.634472\n",
      "2  81.775901   5.737648  181.485108\n",
      "3  55.854342  70.325902  321.773638\n",
      "4  49.366550  75.114040  322.465486\n",
      "<class 'pandas.core.frame.DataFrame'>\n",
      "RangeIndex: 100 entries, 0 to 99\n",
      "Data columns (total 3 columns):\n",
      "0    100 non-null float64\n",
      "1    100 non-null float64\n",
      "2    100 non-null float64\n",
      "dtypes: float64(3)\n",
      "memory usage: 2.4 KB\n",
      "None\n"
     ]
    }
   ],
   "source": [
    "import pandas as pd\n",
    "X = pd.read_csv(\"data_2d.csv\",header=None)\n",
    "print(X.head())\n",
    "print(X.info())"
   ]
  },
  {
   "cell_type": "code",
   "execution_count": 69,
   "metadata": {},
   "outputs": [
    {
     "data": {
      "text/plain": [
       "181.48510774099998"
      ]
     },
     "execution_count": 69,
     "metadata": {},
     "output_type": "execute_result"
    }
   ],
   "source": [
    "#X[2,2] returns error obviously but can be fixed \n",
    "#converting the dataframe into matrix\n",
    "M = X.as_matrix()\n",
    "M[2,2]"
   ]
  },
  {
   "cell_type": "markdown",
   "metadata": {},
   "source": [
    "### pandas demo"
   ]
  },
  {
   "cell_type": "code",
   "execution_count": 71,
   "metadata": {},
   "outputs": [
    {
     "data": {
      "text/plain": [
       "Index(['Month', 'International airline passengers: monthly totals in thousands. Jan 49 ? Dec 60'], dtype='object')"
      ]
     },
     "execution_count": 71,
     "metadata": {},
     "output_type": "execute_result"
    }
   ],
   "source": [
    "df = pd.read_csv('international-airline-passengers.csv',engine='python',skipfooter=3)\n",
    "df.columns"
   ]
  },
  {
   "cell_type": "code",
   "execution_count": 72,
   "metadata": {},
   "outputs": [],
   "source": [
    "df.columns = ['Month','Passengers']"
   ]
  },
  {
   "cell_type": "code",
   "execution_count": 73,
   "metadata": {},
   "outputs": [
    {
     "data": {
      "text/html": [
       "<div>\n",
       "<style scoped>\n",
       "    .dataframe tbody tr th:only-of-type {\n",
       "        vertical-align: middle;\n",
       "    }\n",
       "\n",
       "    .dataframe tbody tr th {\n",
       "        vertical-align: top;\n",
       "    }\n",
       "\n",
       "    .dataframe thead th {\n",
       "        text-align: right;\n",
       "    }\n",
       "</style>\n",
       "<table border=\"1\" class=\"dataframe\">\n",
       "  <thead>\n",
       "    <tr style=\"text-align: right;\">\n",
       "      <th></th>\n",
       "      <th>Month</th>\n",
       "      <th>Passengers</th>\n",
       "    </tr>\n",
       "  </thead>\n",
       "  <tbody>\n",
       "    <tr>\n",
       "      <th>0</th>\n",
       "      <td>1949-01</td>\n",
       "      <td>112</td>\n",
       "    </tr>\n",
       "    <tr>\n",
       "      <th>1</th>\n",
       "      <td>1949-02</td>\n",
       "      <td>118</td>\n",
       "    </tr>\n",
       "    <tr>\n",
       "      <th>2</th>\n",
       "      <td>1949-03</td>\n",
       "      <td>132</td>\n",
       "    </tr>\n",
       "    <tr>\n",
       "      <th>3</th>\n",
       "      <td>1949-04</td>\n",
       "      <td>129</td>\n",
       "    </tr>\n",
       "    <tr>\n",
       "      <th>4</th>\n",
       "      <td>1949-05</td>\n",
       "      <td>121</td>\n",
       "    </tr>\n",
       "  </tbody>\n",
       "</table>\n",
       "</div>"
      ],
      "text/plain": [
       "     Month  Passengers\n",
       "0  1949-01         112\n",
       "1  1949-02         118\n",
       "2  1949-03         132\n",
       "3  1949-04         129\n",
       "4  1949-05         121"
      ]
     },
     "execution_count": 73,
     "metadata": {},
     "output_type": "execute_result"
    }
   ],
   "source": [
    "df.head()"
   ]
  },
  {
   "cell_type": "markdown",
   "metadata": {},
   "source": [
    "`df.passengers` and `df['passengers']` are the same thing"
   ]
  },
  {
   "cell_type": "markdown",
   "metadata": {},
   "source": [
    "`df['x1x2'] = df.apply(lambda row: row['x1']*row['x2'],axis=1)`"
   ]
  },
  {
   "cell_type": "markdown",
   "metadata": {},
   "source": [
    "### Joins \n",
    "`pd.merge(t1,t2,on='user_id')`<br>\n",
    "`t1.merge(t2,on='user_id')`"
   ]
  },
  {
   "cell_type": "markdown",
   "metadata": {},
   "source": [
    "### Matplotlib\n"
   ]
  },
  {
   "cell_type": "code",
   "execution_count": 76,
   "metadata": {},
   "outputs": [],
   "source": [
    "import matplotlib.pyplot as plt"
   ]
  },
  {
   "cell_type": "code",
   "execution_count": 78,
   "metadata": {},
   "outputs": [
    {
     "data": {
      "text/plain": [
       "[<matplotlib.lines.Line2D at 0x7fb740b27908>]"
      ]
     },
     "execution_count": 78,
     "metadata": {},
     "output_type": "execute_result"
    },
    {
     "data": {
      "image/png": "[encoded data removed]",
      "text/plain": [
       "<Figure size 432x288 with 1 Axes>"
      ]
     },
     "metadata": {},
     "output_type": "display_data"
    }
   ],
   "source": [
    "x = np.linspace(0,10,100)\n",
    "y = np.sin(x)\n",
    "plt.plot(x,y)"
   ]
  },
  {
   "cell_type": "markdown",
   "metadata": {},
   "source": [
    "#### scatter plot"
   ]
  },
  {
   "cell_type": "code",
   "execution_count": 79,
   "metadata": {},
   "outputs": [],
   "source": [
    "mat = pd.read_csv(\"data_1d.csv\",header=None).as_matrix()"
   ]
  },
  {
   "cell_type": "code",
   "execution_count": 81,
   "metadata": {},
   "outputs": [
    {
     "data": {
      "text/plain": [
       "<matplotlib.collections.PathCollection at 0x7fb740a95320>"
      ]
     },
     "execution_count": 81,
     "metadata": {},
     "output_type": "execute_result"
    },
    {
     "data": {
      "image/png": "[encoded data removed]",
      "text/plain": [
       "<Figure size 432x288 with 1 Axes>"
      ]
     },
     "metadata": {},
     "output_type": "display_data"
    }
   ],
   "source": [
    "x = mat[:,0]\n",
    "y = mat[:,1]\n",
    "plt.scatter(x,y)"
   ]
  },
  {
   "cell_type": "code",
   "execution_count": 83,
   "metadata": {},
   "outputs": [
    {
     "data": {
      "text/plain": [
       "[<matplotlib.lines.Line2D at 0x7fb740b64550>]"
      ]
     },
     "execution_count": 83,
     "metadata": {},
     "output_type": "execute_result"
    },
    {
     "data": {
      "image/png": "[encoded data removed]",
      "text/plain": [
       "<Figure size 432x288 with 1 Axes>"
      ]
     },
     "metadata": {},
     "output_type": "display_data"
    }
   ],
   "source": [
    "x_line=np.linspace(0,100,100)\n",
    "y_line = 2*x_line+1\n",
    "plt.scatter(x,y)\n",
    "plt.plot(x_line,y_line)"
   ]
  },
  {
   "cell_type": "code",
   "execution_count": 84,
   "metadata": {},
   "outputs": [
    {
     "data": {
      "text/plain": [
       "(array([10.,  9.,  5., 13., 10., 10.,  8., 16., 10.,  9.]),\n",
       " array([ 3.21124861, 12.88597188, 22.56069515, 32.23541842, 41.91014169,\n",
       "        51.58486496, 61.25958823, 70.9343115 , 80.60903477, 90.28375804,\n",
       "        99.95848131]),\n",
       " <a list of 10 Patch objects>)"
      ]
     },
     "execution_count": 84,
     "metadata": {},
     "output_type": "execute_result"
    },
    {
     "data": {
      "image/png": "[encoded data removed]",
      "text/plain": [
       "<Figure size 432x288 with 1 Axes>"
      ]
     },
     "metadata": {},
     "output_type": "display_data"
    }
   ],
   "source": [
    "plt.hist(x)"
   ]
  },
  {
   "cell_type": "markdown",
   "metadata": {},
   "source": [
    "### Say for example, for error in linear regression we assume that the error is normally distributed.i.e if we take actual y and subtract it from the points on the line, we get normally distributed data.\n"
   ]
  },
  {
   "cell_type": "code",
   "execution_count": 86,
   "metadata": {},
   "outputs": [
    {
     "data": {
      "text/plain": [
       "(array([ 6.,  7., 15., 14., 12., 18., 13.,  7.,  6.,  2.]),\n",
       " array([-9.78834827, -7.57337797, -5.35840768, -3.14343738, -0.92846708,\n",
       "         1.28650321,  3.50147351,  5.7164438 ,  7.9314141 , 10.14638439,\n",
       "        12.36135469]),\n",
       " <a list of 10 Patch objects>)"
      ]
     },
     "execution_count": 86,
     "metadata": {},
     "output_type": "execute_result"
    },
    {
     "data": {
      "image/png": "[encoded data removed]",
      "text/plain": [
       "<Figure size 432x288 with 1 Axes>"
      ]
     },
     "metadata": {},
     "output_type": "display_data"
    }
   ],
   "source": [
    "y_actual = 2*x + 1\n",
    "residuals = y-y_actual\n",
    "plt.hist(residuals)"
   ]
  },
  {
   "cell_type": "markdown",
   "metadata": {},
   "source": [
    "### using digit image classifier data from kaggle lets plot an image from the dataset\n"
   ]
  },
  {
   "cell_type": "code",
   "execution_count": 87,
   "metadata": {},
   "outputs": [],
   "source": [
    "df = pd.read_csv(\"train.csv\")"
   ]
  },
  {
   "cell_type": "code",
   "execution_count": 90,
   "metadata": {},
   "outputs": [
    {
     "data": {
      "text/plain": [
       "(42000, 785)"
      ]
     },
     "execution_count": 90,
     "metadata": {},
     "output_type": "execute_result"
    }
   ],
   "source": [
    "df.shape # 42000 samples and 785 columns and one of them is label\n"
   ]
  },
  {
   "cell_type": "code",
   "execution_count": 97,
   "metadata": {},
   "outputs": [
    {
     "data": {
      "text/plain": [
       "(784,)"
      ]
     },
     "execution_count": 97,
     "metadata": {},
     "output_type": "execute_result"
    }
   ],
   "source": [
    "M = df.as_matrix()\n",
    "im = M[0,1:]\n",
    "im.shape"
   ]
  },
  {
   "cell_type": "code",
   "execution_count": 100,
   "metadata": {},
   "outputs": [
    {
     "data": {
      "text/plain": [
       "<matplotlib.image.AxesImage at 0x7fb74085f9b0>"
      ]
     },
     "execution_count": 100,
     "metadata": {},
     "output_type": "execute_result"
    },
    {
     "data": {
      "image/png": "[encoded data removed]",
      "text/plain": [
       "<Figure size 432x288 with 1 Axes>"
      ]
     },
     "metadata": {},
     "output_type": "display_data"
    }
   ],
   "source": [
    "im=im.reshape(28,28)\n",
    "plt.imshow(im)"
   ]
  },
  {
   "cell_type": "code",
   "execution_count": 101,
   "metadata": {},
   "outputs": [
    {
     "data": {
      "text/plain": [
       "1"
      ]
     },
     "execution_count": 101,
     "metadata": {},
     "output_type": "execute_result"
    }
   ],
   "source": [
    "M[0,0]"
   ]
  },
  {
   "cell_type": "code",
   "execution_count": 102,
   "metadata": {},
   "outputs": [
    {
     "data": {
      "text/plain": [
       "<matplotlib.image.AxesImage at 0x7fb74083ba20>"
      ]
     },
     "execution_count": 102,
     "metadata": {},
     "output_type": "execute_result"
    },
    {
     "data": {
      "image/png": "[encoded data removed]",
      "text/plain": [
       "<Figure size 432x288 with 1 Axes>"
      ]
     },
     "metadata": {},
     "output_type": "display_data"
    }
   ],
   "source": [
    "plt.imshow(im,cmap='gray')"
   ]
  },
  {
   "cell_type": "code",
   "execution_count": 103,
   "metadata": {},
   "outputs": [
    {
     "data": {
      "text/plain": [
       "<matplotlib.image.AxesImage at 0x7fb7407919e8>"
      ]
     },
     "execution_count": 103,
     "metadata": {},
     "output_type": "execute_result"
    },
    {
     "data": {
      "image/png": "[encoded data removed]",
      "text/plain": [
       "<Figure size 432x288 with 1 Axes>"
      ]
     },
     "metadata": {},
     "output_type": "display_data"
    }
   ],
   "source": [
    "plt.imshow(255-im,cmap='gray')"
   ]
  },
  {
   "cell_type": "markdown",
   "metadata": {},
   "source": [
    "## Scipy library"
   ]
  },
  {
   "cell_type": "markdown",
   "metadata": {},
   "source": [
    "<b>Fig Gaussian distribution</b>\n",
    "\n",
    "\n",
    "\n",
    "`Given a sample variable what is its Probability Density function?`"
   ]
  },
  {
   "cell_type": "code",
   "execution_count": 104,
   "metadata": {},
   "outputs": [],
   "source": [
    "from scipy.stats import norm"
   ]
  },
  {
   "cell_type": "code",
   "execution_count": 106,
   "metadata": {},
   "outputs": [
    {
     "data": {
      "text/plain": [
       "0.3989422804014327"
      ]
     },
     "execution_count": 106,
     "metadata": {},
     "output_type": "execute_result"
    }
   ],
   "source": [
    "norm.pdf(0) # PDF of 0 from standard normal distribution\n"
   ]
  },
  {
   "cell_type": "markdown",
   "metadata": {},
   "source": [
    "`Sometimes we could be working with a Gaussian which has mean greater other than 0 and variance other than 1` so that can be passed in pdf function as well.<br>\n"
   ]
  },
  {
   "cell_type": "code",
   "execution_count": 107,
   "metadata": {},
   "outputs": [
    {
     "data": {
      "text/plain": [
       "0.03520653267642995"
      ]
     },
     "execution_count": 107,
     "metadata": {},
     "output_type": "execute_result"
    }
   ],
   "source": [
    "norm.pdf(0,loc=5,scale=10)#pdf for 0 with mean 5 and std 10\n"
   ]
  },
  {
   "cell_type": "code",
   "execution_count": 108,
   "metadata": {},
   "outputs": [
    {
     "data": {
      "text/plain": [
       "array([0.21505934, 0.11381471, 0.04814874, 0.30788207, 0.35572962,\n",
       "       0.10309049, 0.36336084, 0.24609365, 0.39690283, 0.38525804])"
      ]
     },
     "execution_count": 108,
     "metadata": {},
     "output_type": "execute_result"
    }
   ],
   "source": [
    "r = np.random.randn(10)#say random array of size 10 \n",
    "# pdf for every value can be calculated at same time\n",
    "norm.pdf(r)"
   ]
  },
  {
   "cell_type": "markdown",
   "metadata": {},
   "source": [
    "### We need the Log Pdf, when we want to calculate the joint probability of some samples of data, we have to find product of the probabilities but for joint log probability we can add the log probabilities. Since adding is computationally cheaper than multiplying, it becomes easier to work with joint log probabilities. And since the form of Gaussian is exponential, when we take the log, exponential goes away, and this also ease the computations. So it is more convenient to work with log probabilities than with normal pdfs.\n",
    "\n",
    "<b>fig Log PDF</b>\n",
    "\n",
    "\n",
    "`norm.logpdf(r)`"
   ]
  },
  {
   "cell_type": "code",
   "execution_count": 109,
   "metadata": {},
   "outputs": [
    {
     "data": {
      "text/plain": [
       "array([-1.53684128, -2.17318346, -3.0334604 , -1.17803846, -1.03358434,\n",
       "       -2.2721481 , -1.01235889, -1.40204314, -0.92406378, -0.95384193])"
      ]
     },
     "execution_count": 109,
     "metadata": {},
     "output_type": "execute_result"
    }
   ],
   "source": [
    "norm.logpdf(r)"
   ]
  },
  {
   "cell_type": "markdown",
   "metadata": {},
   "source": [
    "### CDF : cummulative distribution function ; integral of pdf from minus infinity to x. Not solvable(so no mathematical equation available) we can compute it numerically.`norm.cdf()`\n"
   ]
  },
  {
   "cell_type": "code",
   "execution_count": 110,
   "metadata": {},
   "outputs": [
    {
     "data": {
      "text/plain": [
       "array([0.13314049, 0.9433828 , 0.01986891, 0.76419471, 0.31602479,\n",
       "       0.04997255, 0.66722041, 0.83718629, 0.54032189, 0.39580914])"
      ]
     },
     "execution_count": 110,
     "metadata": {},
     "output_type": "execute_result"
    }
   ],
   "source": [
    "norm.cdf(r)"
   ]
  },
  {
   "cell_type": "code",
   "execution_count": 111,
   "metadata": {},
   "outputs": [
    {
     "data": {
      "text/plain": [
       "array([-2.01635043, -0.05828314, -3.91859899, -0.26893267, -1.15193461,\n",
       "       -2.99628133, -0.40463483, -0.17770866, -0.61559022, -0.92682314])"
      ]
     },
     "execution_count": 111,
     "metadata": {},
     "output_type": "execute_result"
    }
   ],
   "source": [
    "norm.logcdf(r)"
   ]
  },
  {
   "cell_type": "code",
   "execution_count": 116,
   "metadata": {},
   "outputs": [
    {
     "data": {
      "text/plain": [
       "(array([  2.,   0.,   0.,   0.,   0.,   0.,   1.,   0.,   1.,   0.,   2.,\n",
       "          0.,   2.,   1.,   5.,   7.,  10.,   4.,  11.,   9.,  16.,  13.,\n",
       "         17.,  33.,  23.,  40.,  36.,  40.,  48.,  52.,  87.,  83., 102.,\n",
       "        120., 140., 143., 163., 194., 215., 222., 235., 270., 242., 286.,\n",
       "        301., 288., 325., 353., 317., 311., 341., 315., 321., 360., 298.,\n",
       "        319., 302., 282., 293., 257., 234., 202., 196., 175., 185., 154.,\n",
       "        122., 133.,  98.,  92.,  93.,  72.,  60.,  58.,  53.,  49.,  24.,\n",
       "         34.,  16.,  17.,  17.,  14.,   8.,   6.,   5.,  10.,   3.,   1.,\n",
       "          3.,   1.,   2.,   0.,   0.,   2.,   0.,   0.,   0.,   1.,   0.,\n",
       "          2.]),\n",
       " array([-4.23474697, -4.15093963, -4.0671323 , -3.98332496, -3.89951762,\n",
       "        -3.81571029, -3.73190295, -3.64809562, -3.56428828, -3.48048094,\n",
       "        -3.39667361, -3.31286627, -3.22905893, -3.1452516 , -3.06144426,\n",
       "        -2.97763693, -2.89382959, -2.81002225, -2.72621492, -2.64240758,\n",
       "        -2.55860024, -2.47479291, -2.39098557, -2.30717824, -2.2233709 ,\n",
       "        -2.13956356, -2.05575623, -1.97194889, -1.88814156, -1.80433422,\n",
       "        -1.72052688, -1.63671955, -1.55291221, -1.46910487, -1.38529754,\n",
       "        -1.3014902 , -1.21768287, -1.13387553, -1.05006819, -0.96626086,\n",
       "        -0.88245352, -0.79864619, -0.71483885, -0.63103151, -0.54722418,\n",
       "        -0.46341684, -0.3796095 , -0.29580217, -0.21199483, -0.1281875 ,\n",
       "        -0.04438016,  0.03942718,  0.12323451,  0.20704185,  0.29084918,\n",
       "         0.37465652,  0.45846386,  0.54227119,  0.62607853,  0.70988587,\n",
       "         0.7936932 ,  0.87750054,  0.96130787,  1.04511521,  1.12892255,\n",
       "         1.21272988,  1.29653722,  1.38034455,  1.46415189,  1.54795923,\n",
       "         1.63176656,  1.7155739 ,  1.79938124,  1.88318857,  1.96699591,\n",
       "         2.05080324,  2.13461058,  2.21841792,  2.30222525,  2.38603259,\n",
       "         2.46983992,  2.55364726,  2.6374546 ,  2.72126193,  2.80506927,\n",
       "         2.88887661,  2.97268394,  3.05649128,  3.14029861,  3.22410595,\n",
       "         3.30791329,  3.39172062,  3.47552796,  3.55933529,  3.64314263,\n",
       "         3.72694997,  3.8107573 ,  3.89456464,  3.97837198,  4.06217931,\n",
       "         4.14598665]),\n",
       " <a list of 100 Patch objects>)"
      ]
     },
     "execution_count": 116,
     "metadata": {},
     "output_type": "execute_result"
    },
    {
     "data": {
      "image/png": "[encoded data removed]",
      "text/plain": [
       "<Figure size 432x288 with 1 Axes>"
      ]
     },
     "metadata": {},
     "output_type": "display_data"
    }
   ],
   "source": [
    "nr=np.random.randn(10000) #samples from normal gaussian distrubution\n",
    "sr = 10*np.random.randn(10000)+5 # samples from gaussian distribution with mean 5 and std 10.\n",
    "plt.hist(nr,bins=100)\n",
    "\n"
   ]
  },
  {
   "cell_type": "code",
   "execution_count": 117,
   "metadata": {},
   "outputs": [
    {
     "data": {
      "text/plain": [
       "(array([  1.,   0.,   0.,   0.,   0.,   1.,   0.,   0.,   2.,   1.,   1.,\n",
       "          2.,   2.,   3.,   3.,   6.,   8.,   8.,   4.,  17.,  18.,   9.,\n",
       "         19.,  22.,  38.,  31.,  45.,  42.,  63.,  70.,  78., 107., 108.,\n",
       "        127., 136., 158., 165., 178., 179., 202., 247., 250., 271., 257.,\n",
       "        296., 256., 286., 312., 337., 321., 374., 317., 322., 298., 324.,\n",
       "        269., 292., 307., 272., 253., 241., 224., 209., 193., 162., 175.,\n",
       "        155., 117., 115., 111., 100.,  75.,  65.,  50.,  57.,  39.,  30.,\n",
       "         36.,  27.,  19.,  24.,  11.,   9.,  12.,   5.,   3.,   3.,   5.,\n",
       "          3.,   2.,   1.,   1.,   1.,   2.,   1.,   0.,   0.,   1.,   0.,\n",
       "          1.]), array([-36.38089664, -35.56517741, -34.74945818, -33.93373895,\n",
       "        -33.11801973, -32.3023005 , -31.48658127, -30.67086204,\n",
       "        -29.85514281, -29.03942359, -28.22370436, -27.40798513,\n",
       "        -26.5922659 , -25.77654667, -24.96082744, -24.14510822,\n",
       "        -23.32938899, -22.51366976, -21.69795053, -20.8822313 ,\n",
       "        -20.06651207, -19.25079285, -18.43507362, -17.61935439,\n",
       "        -16.80363516, -15.98791593, -15.17219671, -14.35647748,\n",
       "        -13.54075825, -12.72503902, -11.90931979, -11.09360056,\n",
       "        -10.27788134,  -9.46216211,  -8.64644288,  -7.83072365,\n",
       "         -7.01500442,  -6.19928519,  -5.38356597,  -4.56784674,\n",
       "         -3.75212751,  -2.93640828,  -2.12068905,  -1.30496982,\n",
       "         -0.4892506 ,   0.32646863,   1.14218786,   1.95790709,\n",
       "          2.77362632,   3.58934554,   4.40506477,   5.220784  ,\n",
       "          6.03650323,   6.85222246,   7.66794169,   8.48366091,\n",
       "          9.29938014,  10.11509937,  10.9308186 ,  11.74653783,\n",
       "         12.56225706,  13.37797628,  14.19369551,  15.00941474,\n",
       "         15.82513397,  16.6408532 ,  17.45657242,  18.27229165,\n",
       "         19.08801088,  19.90373011,  20.71944934,  21.53516857,\n",
       "         22.35088779,  23.16660702,  23.98232625,  24.79804548,\n",
       "         25.61376471,  26.42948394,  27.24520316,  28.06092239,\n",
       "         28.87664162,  29.69236085,  30.50808008,  31.32379931,\n",
       "         32.13951853,  32.95523776,  33.77095699,  34.58667622,\n",
       "         35.40239545,  36.21811467,  37.0338339 ,  37.84955313,\n",
       "         38.66527236,  39.48099159,  40.29671082,  41.11243004,\n",
       "         41.92814927,  42.7438685 ,  43.55958773,  44.37530696,\n",
       "         45.19102619]), <a list of 100 Patch objects>)"
      ]
     },
     "execution_count": 117,
     "metadata": {},
     "output_type": "execute_result"
    },
    {
     "data": {
      "image/png": "[encoded data removed]",
      "text/plain": [
       "<Figure size 432x288 with 1 Axes>"
      ]
     },
     "metadata": {},
     "output_type": "display_data"
    }
   ],
   "source": [
    "plt.hist(sr,bins=100)"
   ]
  },
  {
   "cell_type": "markdown",
   "metadata": {},
   "source": [
    "### Sampling from Gaussian distribution spherical and axis aligned elliptical:\n",
    "When we work with `multidimentional data`, to sample 2d gaussian wi th mean 0 and variance 1. This will be spherical gaussian as each dimention is uncorrelated and independent of other, all have same variance. For this when we plot the data, it has to be circles.\n"
   ]
  },
  {
   "cell_type": "code",
   "execution_count": 118,
   "metadata": {
    "scrolled": true
   },
   "outputs": [
    {
     "data": {
      "text/plain": [
       "<matplotlib.collections.PathCollection at 0x7fb723ae60f0>"
      ]
     },
     "execution_count": 118,
     "metadata": {},
     "output_type": "execute_result"
    },
    {
     "data": {
      "image/png": "[encoded data removed]",
      "text/plain": [
       "<Figure size 432x288 with 1 Axes>"
      ]
     },
     "metadata": {},
     "output_type": "display_data"
    }
   ],
   "source": [
    "r = np.random.randn(10000,2) # adding more dimension\n",
    "plt.scatter(r[:,0],r[:,1]) # to visualize the spread"
   ]
  },
  {
   "cell_type": "markdown",
   "metadata": {},
   "source": [
    "#### For elliptical gaussian, i.e. the variance is different for each dimention,say we need the std of 2nd dimention to be 5 and mean to be 2.\n"
   ]
  },
  {
   "cell_type": "code",
   "execution_count": 122,
   "metadata": {},
   "outputs": [
    {
     "data": {
      "text/plain": [
       "<matplotlib.collections.PathCollection at 0x7fb723a6f7f0>"
      ]
     },
     "execution_count": 122,
     "metadata": {},
     "output_type": "execute_result"
    },
    {
     "data": {
      "image/png": "[encoded data removed]",
      "text/plain": [
       "<Figure size 432x288 with 1 Axes>"
      ]
     },
     "metadata": {},
     "output_type": "display_data"
    }
   ],
   "source": [
    "r[:,1] = 5*r[:,1]+2\n",
    "plt.scatter(r[:,0],r[:,1])"
   ]
  },
  {
   "cell_type": "markdown",
   "metadata": {},
   "source": [
    "### the fig above is not looking elliptical as matplotlib is scaling the axis and thus they tend to scatter equally."
   ]
  },
  {
   "cell_type": "code",
   "execution_count": 123,
   "metadata": {},
   "outputs": [
    {
     "data": {
      "text/plain": [
       "(-4.509554175933339, 4.387437979917057, -89.8701396422804, 117.39362048849)"
      ]
     },
     "execution_count": 123,
     "metadata": {},
     "output_type": "execute_result"
    },
    {
     "data": {
      "image/png": "[encoded data removed]",
      "text/plain": [
       "<Figure size 432x288 with 1 Axes>"
      ]
     },
     "metadata": {},
     "output_type": "display_data"
    }
   ],
   "source": [
    "plt.scatter(r[:,0],r[:,1])\n",
    "plt.axis('equal')\n"
   ]
  },
  {
   "cell_type": "markdown",
   "metadata": {},
   "source": [
    "### Sampling General Multivariate Normal distributions.\n",
    "Dimentions are not necessarily independent from one another.<br>\n",
    "i.e we have a `Full covariance matrix` <br>\n"
   ]
  },
  {
   "cell_type": "code",
   "execution_count": 124,
   "metadata": {},
   "outputs": [],
   "source": [
    "cov = np.array([[1,0.8],[0.8,3]])  "
   ]
  },
  {
   "cell_type": "markdown",
   "metadata": {},
   "source": [
    "`here this means variance of 1 in first dimention, variance of 3 in 2nd dimention and covariance of between the two dimentions is 0.8`"
   ]
  },
  {
   "cell_type": "code",
   "execution_count": 126,
   "metadata": {},
   "outputs": [],
   "source": [
    "# importing the module for multivariate normal\n",
    "from scipy.stats import multivariate_normal as mvn\n",
    "mu = np.array([0,2])# putting the mean at 0,2\n",
    "r = mvn.rvs(mean=mu, cov=cov, size=1000) "
   ]
  },
  {
   "cell_type": "markdown",
   "metadata": {},
   "source": [
    "`rvs is used to sample from multivariate normal distribution, takes mean, cov and size(parameter to determine number of samples)`"
   ]
  },
  {
   "cell_type": "code",
   "execution_count": 127,
   "metadata": {},
   "outputs": [
    {
     "data": {
      "text/plain": [
       "(-4.164320153853319, 3.635432773106091, -3.0988906146430217, 7.718225783178618)"
      ]
     },
     "execution_count": 127,
     "metadata": {},
     "output_type": "execute_result"
    },
    {
     "data": {
      "image/png": "[encoded data removed]",
      "text/plain": [
       "<Figure size 432x288 with 1 Axes>"
      ]
     },
     "metadata": {},
     "output_type": "display_data"
    }
   ],
   "source": [
    "plt.scatter(r[:,0],r[:,1])\n",
    "plt.axis('equal')"
   ]
  },
  {
   "cell_type": "code",
   "execution_count": 128,
   "metadata": {},
   "outputs": [
    {
     "data": {
      "text/plain": [
       "<matplotlib.collections.PathCollection at 0x7fb72398bf60>"
      ]
     },
     "execution_count": 128,
     "metadata": {},
     "output_type": "execute_result"
    },
    {
     "data": {
      "image/png": "[encoded data removed]",
      "text/plain": [
       "<Figure size 432x288 with 1 Axes>"
      ]
     },
     "metadata": {},
     "output_type": "display_data"
    }
   ],
   "source": [
    "r = np.random.multivariate_normal(mean=mu,cov=cov,size=1000)\n",
    "plt.scatter(r[:,0],r[:,1])"
   ]
  },
  {
   "cell_type": "markdown",
   "metadata": {},
   "source": [
    "### Other interesting scipy functions\n",
    "`scipy.io.loadmat`---> for .mat files<br>\n",
    "`scipy.io.wavfile.read`---> for audio(wav files)\n",
    "<b>fig WAV files</b>\n",
    "\n",
    "`scipy.signal`---> for signal processing---> convolutions(`convolve,convolve2d,correlate,correlate2d...`), B-splines(`bspline,quadratic,cubic,gauss_spline...`) <br>\n",
    "`fast fourier transform`(signal processing function)---> is in `numpy`, it converts the signal from time domain to frequency domain.<br>\n",
    "i.e it will show us the frequency components of the original signal.<br>\n",
    "\n",
    "<b>lets sin wave for multiple frequencies</b>\n"
   ]
  },
  {
   "cell_type": "code",
   "execution_count": 129,
   "metadata": {
    "scrolled": true
   },
   "outputs": [
    {
     "data": {
      "text/plain": [
       "[<matplotlib.lines.Line2D at 0x7fb722aa40b8>]"
      ]
     },
     "execution_count": 129,
     "metadata": {},
     "output_type": "execute_result"
    },
    {
     "data": {
      "image/png": "[encoded data removed]",
      "text/plain": [
       "<Figure size 432x288 with 1 Axes>"
      ]
     },
     "metadata": {},
     "output_type": "display_data"
    }
   ],
   "source": [
    "x = np.linspace(0,100,10000)\n",
    "y = np.sin(x)+np.sin(3*x)+np.sin(5*x)\n",
    "plt.plot(y)"
   ]
  },
  {
   "cell_type": "markdown",
   "metadata": {},
   "source": [
    "`Above is periodic wave with multiple frequency components`"
   ]
  },
  {
   "cell_type": "code",
   "execution_count": 130,
   "metadata": {},
   "outputs": [
    {
     "data": {
      "text/plain": [
       "[<matplotlib.lines.Line2D at 0x7fb722a70c88>]"
      ]
     },
     "execution_count": 130,
     "metadata": {},
     "output_type": "execute_result"
    },
    {
     "data": {
      "image/png": "[encoded data removed]",
      "text/plain": [
       "<Figure size 432x288 with 1 Axes>"
      ]
     },
     "metadata": {},
     "output_type": "display_data"
    }
   ],
   "source": [
    "Y = np.fft.fft(y)# FFT gives us signal with complex number so before plotting we get the magnitude\n",
    "plt.plot(np.abs(Y))"
   ]
  },
  {
   "cell_type": "markdown",
   "metadata": {},
   "source": [
    "The spikes are at 16, 48, 80 and <br>\n",
    "so to calculate the actual frequency we use 2*(pi)*x/100. hence it will be"
   ]
  },
  {
   "cell_type": "code",
   "execution_count": 131,
   "metadata": {},
   "outputs": [
    {
     "name": "stdout",
     "output_type": "stream",
     "text": [
      "1.0053096491487339 3.015928947446201 5.026548245743669\n"
     ]
    }
   ],
   "source": [
    "print(2*np.pi*16/100,2*np.pi*48/100,2*np.pi*80/100)"
   ]
  },
  {
   "cell_type": "markdown",
   "metadata": {},
   "source": [
    "`These are the original frequencies`"
   ]
  }
 ],
 "metadata": {
  "kernelspec": {
   "display_name": "Python 3",
   "language": "python",
   "name": "python3"
  },
  "language_info": {
   "codemirror_mode": {
    "name": "ipython",
    "version": 3
   },
   "file_extension": ".py",
   "mimetype": "text/x-python",
   "name": "python",
   "nbconvert_exporter": "python",
   "pygments_lexer": "ipython3",
   "version": "3.6.6"
  }
 },
 "nbformat": 4,
 "nbformat_minor": 2
}
